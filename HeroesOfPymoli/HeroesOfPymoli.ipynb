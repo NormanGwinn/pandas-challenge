{
 "cells": [
  {
   "cell_type": "markdown",
   "metadata": {},
   "source": [
    "# Heroes of Pymoli"
   ]
  },
  {
   "cell_type": "code",
   "execution_count": 62,
   "metadata": {},
   "outputs": [],
   "source": [
    "# Dependencies and Setup\n",
    "import pandas as pd\n",
    "\n",
    "# File to Load (Remember to Change These)\n",
    "file_to_load = \"Resources/purchase_data.csv\"\n",
    "\n",
    "# Read Purchasing File and store into Pandas data frame\n",
    "purchase_data = pd.read_csv(file_to_load)"
   ]
  },
  {
   "cell_type": "markdown",
   "metadata": {},
   "source": [
    "## Player Count"
   ]
  },
  {
   "cell_type": "markdown",
   "metadata": {},
   "source": [
    "* Display the total number of players\n"
   ]
  },
  {
   "cell_type": "code",
   "execution_count": 63,
   "metadata": {},
   "outputs": [
    {
     "data": {
      "text/html": [
       "<style  type=\"text/css\" >\n",
       "</style><table id=\"T_7e255812_5a9b_11ea_acc0_5c879cbbbf8d\" ><thead>    <tr>        <th class=\"col_heading level0 col0\" >Total Number of Players</th>    </tr></thead><tbody>\n",
       "                <tr>\n",
       "                                <td id=\"T_7e255812_5a9b_11ea_acc0_5c879cbbbf8drow0_col0\" class=\"data row0 col0\" >576</td>\n",
       "            </tr>\n",
       "    </tbody></table>"
      ],
      "text/plain": [
       "<pandas.io.formats.style.Styler at 0x2a3c81724c8>"
      ]
     },
     "execution_count": 63,
     "metadata": {},
     "output_type": "execute_result"
    }
   ],
   "source": [
    "# Slice out a DataFrame of unique customers\n",
    "customers = purchase_data[[\"SN\",\"Gender\",\"Age\"]].drop_duplicates()\n",
    "customer_count = customers.shape[0]\n",
    "\n",
    "# Display\n",
    "pd.DataFrame({\"Total Number of Players\" : [customer_count]}).style.hide_index()"
   ]
  },
  {
   "cell_type": "markdown",
   "metadata": {},
   "source": [
    "## Purchasing Analysis (Total)"
   ]
  },
  {
   "cell_type": "markdown",
   "metadata": {},
   "source": [
    "* Run basic calculations to obtain number of unique items, average price, etc.\n",
    "\n",
    "\n",
    "* Create a summary data frame to hold the results\n",
    "\n",
    "\n",
    "* Optional: give the displayed data cleaner formatting\n",
    "\n",
    "\n",
    "* Display the summary data frame\n"
   ]
  },
  {
   "cell_type": "code",
   "execution_count": 64,
   "metadata": {},
   "outputs": [
    {
     "data": {
      "text/html": [
       "<style  type=\"text/css\" >\n",
       "</style><table id=\"T_7e27a06e_5a9b_11ea_a9e0_5c879cbbbf8d\" ><thead>    <tr>        <th class=\"col_heading level0 col0\" >Number of Unique Items</th>        <th class=\"col_heading level0 col1\" >Average Purchase Price</th>        <th class=\"col_heading level0 col2\" >Total Number of Purchases</th>        <th class=\"col_heading level0 col3\" >Total Revenue</th>    </tr></thead><tbody>\n",
       "                <tr>\n",
       "                                <td id=\"T_7e27a06e_5a9b_11ea_a9e0_5c879cbbbf8drow0_col0\" class=\"data row0 col0\" >183</td>\n",
       "                        <td id=\"T_7e27a06e_5a9b_11ea_a9e0_5c879cbbbf8drow0_col1\" class=\"data row0 col1\" >$3.04</td>\n",
       "                        <td id=\"T_7e27a06e_5a9b_11ea_a9e0_5c879cbbbf8drow0_col2\" class=\"data row0 col2\" >780</td>\n",
       "                        <td id=\"T_7e27a06e_5a9b_11ea_a9e0_5c879cbbbf8drow0_col3\" class=\"data row0 col3\" >$2,379.77</td>\n",
       "            </tr>\n",
       "    </tbody></table>"
      ],
      "text/plain": [
       "<pandas.io.formats.style.Styler at 0x2a3c81b3d08>"
      ]
     },
     "execution_count": 64,
     "metadata": {},
     "output_type": "execute_result"
    }
   ],
   "source": [
    "# Create a DataFrame of unique items\n",
    "items = purchase_data[[\"Item ID\", \"Price\"]].drop_duplicates()\n",
    "\n",
    "# Create and display a Data Analysis Summary Data Frame\n",
    "pd.concat([\n",
    "    items.agg({\"Price\" : [\"count\",\"mean\"]}).transpose().rename({\n",
    "        \"count\" : \"Number of Unique Items\",\n",
    "        \"mean\" : \"Average Purchase Price\"}, axis=1), \n",
    "    purchase_data.agg({\"Price\" : [\"count\",\"sum\"]}).transpose().rename({\n",
    "        \"count\" : \"Total Number of Purchases\",\n",
    "        \"sum\" : \"Total Revenue\"\n",
    "    }, axis=1)], axis=1).style.format({\n",
    "        \"Number of Unique Items\" : \"{:.0f}\".format,\n",
    "        \"Average Purchase Price\" : \"${:.2f}\".format,\n",
    "        \"Total Number of Purchases\" : \"{:.0f}\".format,\n",
    "        \"Total Revenue\" : \"${:,.2f}\"}).hide_index()"
   ]
  },
  {
   "cell_type": "markdown",
   "metadata": {},
   "source": [
    "## Gender Demographics"
   ]
  },
  {
   "cell_type": "markdown",
   "metadata": {},
   "source": [
    "* Percentage and Count of Male Players\n",
    "\n",
    "\n",
    "* Percentage and Count of Female Players\n",
    "\n",
    "\n",
    "* Percentage and Count of Other / Non-Disclosed\n",
    "\n",
    "\n"
   ]
  },
  {
   "cell_type": "code",
   "execution_count": 65,
   "metadata": {
    "scrolled": true
   },
   "outputs": [
    {
     "data": {
      "text/html": [
       "<style  type=\"text/css\" >\n",
       "</style><table id=\"T_7e299ae2_5a9b_11ea_950a_5c879cbbbf8d\" ><thead>    <tr>        <th class=\"col_heading level0 col0\" >Gender</th>        <th class=\"col_heading level0 col1\" >Customers</th>        <th class=\"col_heading level0 col2\" >Percentage</th>    </tr></thead><tbody>\n",
       "                <tr>\n",
       "                                <td id=\"T_7e299ae2_5a9b_11ea_950a_5c879cbbbf8drow0_col0\" class=\"data row0 col0\" >Male</td>\n",
       "                        <td id=\"T_7e299ae2_5a9b_11ea_950a_5c879cbbbf8drow0_col1\" class=\"data row0 col1\" >484</td>\n",
       "                        <td id=\"T_7e299ae2_5a9b_11ea_950a_5c879cbbbf8drow0_col2\" class=\"data row0 col2\" >84%</td>\n",
       "            </tr>\n",
       "            <tr>\n",
       "                                <td id=\"T_7e299ae2_5a9b_11ea_950a_5c879cbbbf8drow1_col0\" class=\"data row1 col0\" >Female</td>\n",
       "                        <td id=\"T_7e299ae2_5a9b_11ea_950a_5c879cbbbf8drow1_col1\" class=\"data row1 col1\" >81</td>\n",
       "                        <td id=\"T_7e299ae2_5a9b_11ea_950a_5c879cbbbf8drow1_col2\" class=\"data row1 col2\" >14%</td>\n",
       "            </tr>\n",
       "            <tr>\n",
       "                                <td id=\"T_7e299ae2_5a9b_11ea_950a_5c879cbbbf8drow2_col0\" class=\"data row2 col0\" >Other / Non-Disclosed</td>\n",
       "                        <td id=\"T_7e299ae2_5a9b_11ea_950a_5c879cbbbf8drow2_col1\" class=\"data row2 col1\" >11</td>\n",
       "                        <td id=\"T_7e299ae2_5a9b_11ea_950a_5c879cbbbf8drow2_col2\" class=\"data row2 col2\" >2%</td>\n",
       "            </tr>\n",
       "    </tbody></table>"
      ],
      "text/plain": [
       "<pandas.io.formats.style.Styler at 0x2a3c818d388>"
      ]
     },
     "execution_count": 65,
     "metadata": {},
     "output_type": "execute_result"
    }
   ],
   "source": [
    "# Create a DataFrame with the required columns\n",
    "gender_demographics = pd.concat([\n",
    "    customers[\"Gender\"].value_counts().rename(\"Customers\"), \n",
    "    (customers[\"Gender\"].value_counts()/customers.shape[0]).rename(\"Percentage\")],\n",
    "    axis=1).rename_axis(\"Gender\").reset_index()\n",
    "\n",
    "# Display\n",
    "gender_demographics.style.format({\"Percentage\" : \"{:.0%}\".format}).hide_index()"
   ]
  },
  {
   "cell_type": "markdown",
   "metadata": {},
   "source": [
    "\n",
    "## Purchasing Analysis (Gender)"
   ]
  },
  {
   "cell_type": "markdown",
   "metadata": {},
   "source": [
    "* Run basic calculations to obtain purchase count, avg. purchase price, avg. purchase total per person etc. by gender\n",
    "\n",
    "\n",
    "\n",
    "\n",
    "* Create a summary data frame to hold the results\n",
    "\n",
    "\n",
    "* Optional: give the displayed data cleaner formatting\n",
    "\n",
    "\n",
    "* Display the summary data frame"
   ]
  },
  {
   "cell_type": "code",
   "execution_count": 66,
   "metadata": {},
   "outputs": [
    {
     "data": {
      "text/html": [
       "<style  type=\"text/css\" >\n",
       "</style><table id=\"T_7e2d68d8_5a9b_11ea_8476_5c879cbbbf8d\" ><thead>    <tr>        <th class=\"blank level0\" ></th>        <th class=\"col_heading level0 col0\" >Purchase Count</th>        <th class=\"col_heading level0 col1\" >Average Purchase Price</th>        <th class=\"col_heading level0 col2\" >Total Purchase Value</th>    </tr>    <tr>        <th class=\"index_name level0\" >Gender</th>        <th class=\"blank\" ></th>        <th class=\"blank\" ></th>        <th class=\"blank\" ></th>    </tr></thead><tbody>\n",
       "                <tr>\n",
       "                        <th id=\"T_7e2d68d8_5a9b_11ea_8476_5c879cbbbf8dlevel0_row0\" class=\"row_heading level0 row0\" >Female</th>\n",
       "                        <td id=\"T_7e2d68d8_5a9b_11ea_8476_5c879cbbbf8drow0_col0\" class=\"data row0 col0\" >113</td>\n",
       "                        <td id=\"T_7e2d68d8_5a9b_11ea_8476_5c879cbbbf8drow0_col1\" class=\"data row0 col1\" >$3.20</td>\n",
       "                        <td id=\"T_7e2d68d8_5a9b_11ea_8476_5c879cbbbf8drow0_col2\" class=\"data row0 col2\" >$361.94</td>\n",
       "            </tr>\n",
       "            <tr>\n",
       "                        <th id=\"T_7e2d68d8_5a9b_11ea_8476_5c879cbbbf8dlevel0_row1\" class=\"row_heading level0 row1\" >Male</th>\n",
       "                        <td id=\"T_7e2d68d8_5a9b_11ea_8476_5c879cbbbf8drow1_col0\" class=\"data row1 col0\" >652</td>\n",
       "                        <td id=\"T_7e2d68d8_5a9b_11ea_8476_5c879cbbbf8drow1_col1\" class=\"data row1 col1\" >$3.02</td>\n",
       "                        <td id=\"T_7e2d68d8_5a9b_11ea_8476_5c879cbbbf8drow1_col2\" class=\"data row1 col2\" >$1967.64</td>\n",
       "            </tr>\n",
       "            <tr>\n",
       "                        <th id=\"T_7e2d68d8_5a9b_11ea_8476_5c879cbbbf8dlevel0_row2\" class=\"row_heading level0 row2\" >Other / Non-Disclosed</th>\n",
       "                        <td id=\"T_7e2d68d8_5a9b_11ea_8476_5c879cbbbf8drow2_col0\" class=\"data row2 col0\" >15</td>\n",
       "                        <td id=\"T_7e2d68d8_5a9b_11ea_8476_5c879cbbbf8drow2_col1\" class=\"data row2 col1\" >$3.35</td>\n",
       "                        <td id=\"T_7e2d68d8_5a9b_11ea_8476_5c879cbbbf8drow2_col2\" class=\"data row2 col2\" >$50.19</td>\n",
       "            </tr>\n",
       "    </tbody></table>"
      ],
      "text/plain": [
       "<pandas.io.formats.style.Styler at 0x2a3c81982c8>"
      ]
     },
     "execution_count": 66,
     "metadata": {},
     "output_type": "execute_result"
    }
   ],
   "source": [
    "# Pivot on Gender\n",
    "gender_purchases = pd \\\n",
    "    .pivot_table(purchase_data, values=[\"Price\"], index=\"Gender\", aggfunc=[\"count\", \"mean\", \"sum\"]) \\\n",
    "    .droplevel(1, 1)\n",
    "\n",
    "gender_purchases.rename(\n",
    "    columns={\"count\" : \"Purchase Count\", \"mean\" : \"Average Purchase Price\", \"sum\" : \"Total Purchase Value\"}, inplace=True)\n",
    "\n",
    "# Display\n",
    "gender_purchases.style.format({\n",
    "    \"Average Purchase Price\" : \"${:.2f}\".format,\n",
    "    \"Total Purchase Value\" : \"${:.2f}\".format,\n",
    "    \"Avg by Customer\" : \"${:.2f}\".format})"
   ]
  },
  {
   "cell_type": "markdown",
   "metadata": {},
   "source": [
    "## Age Demographics"
   ]
  },
  {
   "cell_type": "markdown",
   "metadata": {},
   "source": [
    "* Bin the purchase_data data frame by age\n",
    "\n",
    "\n",
    "* Run basic calculations to obtain purchase count, avg. purchase price, avg. purchase total per person etc. in the table below\n",
    "\n",
    "\n",
    "* Create a summary data frame to hold the results\n",
    "\n",
    "\n",
    "* Optional: give the displayed data cleaner formatting\n",
    "\n",
    "\n",
    "* Display the summary data frame"
   ]
  },
  {
   "cell_type": "code",
   "execution_count": 67,
   "metadata": {},
   "outputs": [
    {
     "data": {
      "text/html": [
       "<style  type=\"text/css\" >\n",
       "</style><table id=\"T_7e33f570_5a9b_11ea_94ca_5c879cbbbf8d\" ><thead>    <tr>        <th class=\"blank level0\" ></th>        <th class=\"col_heading level0 col0\" >Purchase Count</th>        <th class=\"col_heading level0 col1\" >Average Purchase Price</th>        <th class=\"col_heading level0 col2\" >Total Purchase Value</th>        <th class=\"col_heading level0 col3\" >Avg by Customer</th>    </tr>    <tr>        <th class=\"index_name level0\" >Age Range</th>        <th class=\"blank\" ></th>        <th class=\"blank\" ></th>        <th class=\"blank\" ></th>        <th class=\"blank\" ></th>    </tr></thead><tbody>\n",
       "                <tr>\n",
       "                        <th id=\"T_7e33f570_5a9b_11ea_94ca_5c879cbbbf8dlevel0_row0\" class=\"row_heading level0 row0\" >[5, 10)</th>\n",
       "                        <td id=\"T_7e33f570_5a9b_11ea_94ca_5c879cbbbf8drow0_col0\" class=\"data row0 col0\" >23</td>\n",
       "                        <td id=\"T_7e33f570_5a9b_11ea_94ca_5c879cbbbf8drow0_col1\" class=\"data row0 col1\" >$3.35</td>\n",
       "                        <td id=\"T_7e33f570_5a9b_11ea_94ca_5c879cbbbf8drow0_col2\" class=\"data row0 col2\" >$77.13</td>\n",
       "                        <td id=\"T_7e33f570_5a9b_11ea_94ca_5c879cbbbf8drow0_col3\" class=\"data row0 col3\" >$4.54</td>\n",
       "            </tr>\n",
       "            <tr>\n",
       "                        <th id=\"T_7e33f570_5a9b_11ea_94ca_5c879cbbbf8dlevel0_row1\" class=\"row_heading level0 row1\" >[10, 15)</th>\n",
       "                        <td id=\"T_7e33f570_5a9b_11ea_94ca_5c879cbbbf8drow1_col0\" class=\"data row1 col0\" >28</td>\n",
       "                        <td id=\"T_7e33f570_5a9b_11ea_94ca_5c879cbbbf8drow1_col1\" class=\"data row1 col1\" >$2.96</td>\n",
       "                        <td id=\"T_7e33f570_5a9b_11ea_94ca_5c879cbbbf8drow1_col2\" class=\"data row1 col2\" >$82.78</td>\n",
       "                        <td id=\"T_7e33f570_5a9b_11ea_94ca_5c879cbbbf8drow1_col3\" class=\"data row1 col3\" >$3.76</td>\n",
       "            </tr>\n",
       "            <tr>\n",
       "                        <th id=\"T_7e33f570_5a9b_11ea_94ca_5c879cbbbf8dlevel0_row2\" class=\"row_heading level0 row2\" >[15, 20)</th>\n",
       "                        <td id=\"T_7e33f570_5a9b_11ea_94ca_5c879cbbbf8drow2_col0\" class=\"data row2 col0\" >136</td>\n",
       "                        <td id=\"T_7e33f570_5a9b_11ea_94ca_5c879cbbbf8drow2_col1\" class=\"data row2 col1\" >$3.04</td>\n",
       "                        <td id=\"T_7e33f570_5a9b_11ea_94ca_5c879cbbbf8drow2_col2\" class=\"data row2 col2\" >$412.89</td>\n",
       "                        <td id=\"T_7e33f570_5a9b_11ea_94ca_5c879cbbbf8drow2_col3\" class=\"data row2 col3\" >$3.86</td>\n",
       "            </tr>\n",
       "            <tr>\n",
       "                        <th id=\"T_7e33f570_5a9b_11ea_94ca_5c879cbbbf8dlevel0_row3\" class=\"row_heading level0 row3\" >[20, 25)</th>\n",
       "                        <td id=\"T_7e33f570_5a9b_11ea_94ca_5c879cbbbf8drow3_col0\" class=\"data row3 col0\" >365</td>\n",
       "                        <td id=\"T_7e33f570_5a9b_11ea_94ca_5c879cbbbf8drow3_col1\" class=\"data row3 col1\" >$3.05</td>\n",
       "                        <td id=\"T_7e33f570_5a9b_11ea_94ca_5c879cbbbf8drow3_col2\" class=\"data row3 col2\" >$1114.06</td>\n",
       "                        <td id=\"T_7e33f570_5a9b_11ea_94ca_5c879cbbbf8drow3_col3\" class=\"data row3 col3\" >$4.32</td>\n",
       "            </tr>\n",
       "            <tr>\n",
       "                        <th id=\"T_7e33f570_5a9b_11ea_94ca_5c879cbbbf8dlevel0_row4\" class=\"row_heading level0 row4\" >[25, 30)</th>\n",
       "                        <td id=\"T_7e33f570_5a9b_11ea_94ca_5c879cbbbf8drow4_col0\" class=\"data row4 col0\" >101</td>\n",
       "                        <td id=\"T_7e33f570_5a9b_11ea_94ca_5c879cbbbf8drow4_col1\" class=\"data row4 col1\" >$2.90</td>\n",
       "                        <td id=\"T_7e33f570_5a9b_11ea_94ca_5c879cbbbf8drow4_col2\" class=\"data row4 col2\" >$293.00</td>\n",
       "                        <td id=\"T_7e33f570_5a9b_11ea_94ca_5c879cbbbf8drow4_col3\" class=\"data row4 col3\" >$3.81</td>\n",
       "            </tr>\n",
       "            <tr>\n",
       "                        <th id=\"T_7e33f570_5a9b_11ea_94ca_5c879cbbbf8dlevel0_row5\" class=\"row_heading level0 row5\" >[30, 35)</th>\n",
       "                        <td id=\"T_7e33f570_5a9b_11ea_94ca_5c879cbbbf8drow5_col0\" class=\"data row5 col0\" >73</td>\n",
       "                        <td id=\"T_7e33f570_5a9b_11ea_94ca_5c879cbbbf8drow5_col1\" class=\"data row5 col1\" >$2.93</td>\n",
       "                        <td id=\"T_7e33f570_5a9b_11ea_94ca_5c879cbbbf8drow5_col2\" class=\"data row5 col2\" >$214.00</td>\n",
       "                        <td id=\"T_7e33f570_5a9b_11ea_94ca_5c879cbbbf8drow5_col3\" class=\"data row5 col3\" >$4.12</td>\n",
       "            </tr>\n",
       "            <tr>\n",
       "                        <th id=\"T_7e33f570_5a9b_11ea_94ca_5c879cbbbf8dlevel0_row6\" class=\"row_heading level0 row6\" >[35, 40)</th>\n",
       "                        <td id=\"T_7e33f570_5a9b_11ea_94ca_5c879cbbbf8drow6_col0\" class=\"data row6 col0\" >41</td>\n",
       "                        <td id=\"T_7e33f570_5a9b_11ea_94ca_5c879cbbbf8drow6_col1\" class=\"data row6 col1\" >$3.60</td>\n",
       "                        <td id=\"T_7e33f570_5a9b_11ea_94ca_5c879cbbbf8drow6_col2\" class=\"data row6 col2\" >$147.67</td>\n",
       "                        <td id=\"T_7e33f570_5a9b_11ea_94ca_5c879cbbbf8drow6_col3\" class=\"data row6 col3\" >$4.76</td>\n",
       "            </tr>\n",
       "            <tr>\n",
       "                        <th id=\"T_7e33f570_5a9b_11ea_94ca_5c879cbbbf8dlevel0_row7\" class=\"row_heading level0 row7\" >[40, 45)</th>\n",
       "                        <td id=\"T_7e33f570_5a9b_11ea_94ca_5c879cbbbf8drow7_col0\" class=\"data row7 col0\" >12</td>\n",
       "                        <td id=\"T_7e33f570_5a9b_11ea_94ca_5c879cbbbf8drow7_col1\" class=\"data row7 col1\" >$3.04</td>\n",
       "                        <td id=\"T_7e33f570_5a9b_11ea_94ca_5c879cbbbf8drow7_col2\" class=\"data row7 col2\" >$36.54</td>\n",
       "                        <td id=\"T_7e33f570_5a9b_11ea_94ca_5c879cbbbf8drow7_col3\" class=\"data row7 col3\" >$3.32</td>\n",
       "            </tr>\n",
       "            <tr>\n",
       "                        <th id=\"T_7e33f570_5a9b_11ea_94ca_5c879cbbbf8dlevel0_row8\" class=\"row_heading level0 row8\" >[45, 50)</th>\n",
       "                        <td id=\"T_7e33f570_5a9b_11ea_94ca_5c879cbbbf8drow8_col0\" class=\"data row8 col0\" >1</td>\n",
       "                        <td id=\"T_7e33f570_5a9b_11ea_94ca_5c879cbbbf8drow8_col1\" class=\"data row8 col1\" >$1.70</td>\n",
       "                        <td id=\"T_7e33f570_5a9b_11ea_94ca_5c879cbbbf8drow8_col2\" class=\"data row8 col2\" >$1.70</td>\n",
       "                        <td id=\"T_7e33f570_5a9b_11ea_94ca_5c879cbbbf8drow8_col3\" class=\"data row8 col3\" >$1.70</td>\n",
       "            </tr>\n",
       "    </tbody></table>"
      ],
      "text/plain": [
       "<pandas.io.formats.style.Styler at 0x2a3c7f17588>"
      ]
     },
     "execution_count": 67,
     "metadata": {},
     "output_type": "execute_result"
    }
   ],
   "source": [
    "# Add age bins to the purchase_data DataFrame\n",
    "purchase_data[\"age_bins\"] = pd.cut(purchase_data[\"Age\"], range(5,55,5), right=False)\n",
    "\n",
    "# Pivot on the age bins\n",
    "age_purchases = pd.pivot_table(\n",
    "    purchase_data, values=[\"Price\"], index=\"age_bins\", aggfunc=[\"count\", \"mean\", \"sum\"]).droplevel(1,1)\n",
    "\n",
    "# Manipulate\n",
    "customer_count_by_age = pd.cut(customers[\"Age\"], range(5,55,5), right=False).value_counts()\n",
    "age_purchases[\"Avg by Customer\"] = age_purchases[\"sum\"].divide(customer_count_by_age,axis=0)\n",
    "age_purchases.index.rename(\"Age Range\", inplace = \"True\")\n",
    "age_purchases.rename(\n",
    "    columns={\"count\" : \"Purchase Count\", \"mean\" : \"Average Purchase Price\", \"sum\" : \"Total Purchase Value\"},\n",
    "    inplace = True)\n",
    "\n",
    "# Display\n",
    "age_purchases.style.format({\n",
    "    \"Average Purchase Price\" : \"${:.2f}\".format,\n",
    "    \"Total Purchase Value\" : \"${:.2f}\".format,\n",
    "    \"Avg by Customer\" : \"${:.2f}\".format})"
   ]
  },
  {
   "cell_type": "markdown",
   "metadata": {},
   "source": [
    "## Top Spenders"
   ]
  },
  {
   "cell_type": "markdown",
   "metadata": {},
   "source": [
    "* Run basic calculations to obtain the results in the table below\n",
    "\n",
    "\n",
    "* Create a summary data frame to hold the results\n",
    "\n",
    "\n",
    "* Sort the total purchase value column in descending order\n",
    "\n",
    "\n",
    "* Optional: give the displayed data cleaner formatting\n",
    "\n",
    "\n",
    "* Display a preview of the summary data frame\n",
    "\n"
   ]
  },
  {
   "cell_type": "code",
   "execution_count": 68,
   "metadata": {},
   "outputs": [
    {
     "data": {
      "text/html": [
       "<style  type=\"text/css\" >\n",
       "</style><table id=\"T_7e37e8f6_5a9b_11ea_a40a_5c879cbbbf8d\" ><thead>    <tr>        <th class=\"blank level0\" ></th>        <th class=\"col_heading level0 col0\" >Purchase Count</th>        <th class=\"col_heading level0 col1\" >Average Purchase Price</th>        <th class=\"col_heading level0 col2\" >Total Purchase Value</th>    </tr>    <tr>        <th class=\"index_name level0\" >SN</th>        <th class=\"blank\" ></th>        <th class=\"blank\" ></th>        <th class=\"blank\" ></th>    </tr></thead><tbody>\n",
       "                <tr>\n",
       "                        <th id=\"T_7e37e8f6_5a9b_11ea_a40a_5c879cbbbf8dlevel0_row0\" class=\"row_heading level0 row0\" >Lisosia93</th>\n",
       "                        <td id=\"T_7e37e8f6_5a9b_11ea_a40a_5c879cbbbf8drow0_col0\" class=\"data row0 col0\" >5</td>\n",
       "                        <td id=\"T_7e37e8f6_5a9b_11ea_a40a_5c879cbbbf8drow0_col1\" class=\"data row0 col1\" >$3.79</td>\n",
       "                        <td id=\"T_7e37e8f6_5a9b_11ea_a40a_5c879cbbbf8drow0_col2\" class=\"data row0 col2\" >$18.96</td>\n",
       "            </tr>\n",
       "            <tr>\n",
       "                        <th id=\"T_7e37e8f6_5a9b_11ea_a40a_5c879cbbbf8dlevel0_row1\" class=\"row_heading level0 row1\" >Idastidru52</th>\n",
       "                        <td id=\"T_7e37e8f6_5a9b_11ea_a40a_5c879cbbbf8drow1_col0\" class=\"data row1 col0\" >4</td>\n",
       "                        <td id=\"T_7e37e8f6_5a9b_11ea_a40a_5c879cbbbf8drow1_col1\" class=\"data row1 col1\" >$3.86</td>\n",
       "                        <td id=\"T_7e37e8f6_5a9b_11ea_a40a_5c879cbbbf8drow1_col2\" class=\"data row1 col2\" >$15.45</td>\n",
       "            </tr>\n",
       "            <tr>\n",
       "                        <th id=\"T_7e37e8f6_5a9b_11ea_a40a_5c879cbbbf8dlevel0_row2\" class=\"row_heading level0 row2\" >Chamjask73</th>\n",
       "                        <td id=\"T_7e37e8f6_5a9b_11ea_a40a_5c879cbbbf8drow2_col0\" class=\"data row2 col0\" >3</td>\n",
       "                        <td id=\"T_7e37e8f6_5a9b_11ea_a40a_5c879cbbbf8drow2_col1\" class=\"data row2 col1\" >$4.61</td>\n",
       "                        <td id=\"T_7e37e8f6_5a9b_11ea_a40a_5c879cbbbf8drow2_col2\" class=\"data row2 col2\" >$13.83</td>\n",
       "            </tr>\n",
       "            <tr>\n",
       "                        <th id=\"T_7e37e8f6_5a9b_11ea_a40a_5c879cbbbf8dlevel0_row3\" class=\"row_heading level0 row3\" >Iral74</th>\n",
       "                        <td id=\"T_7e37e8f6_5a9b_11ea_a40a_5c879cbbbf8drow3_col0\" class=\"data row3 col0\" >4</td>\n",
       "                        <td id=\"T_7e37e8f6_5a9b_11ea_a40a_5c879cbbbf8drow3_col1\" class=\"data row3 col1\" >$3.40</td>\n",
       "                        <td id=\"T_7e37e8f6_5a9b_11ea_a40a_5c879cbbbf8drow3_col2\" class=\"data row3 col2\" >$13.62</td>\n",
       "            </tr>\n",
       "            <tr>\n",
       "                        <th id=\"T_7e37e8f6_5a9b_11ea_a40a_5c879cbbbf8dlevel0_row4\" class=\"row_heading level0 row4\" >Iskadarya95</th>\n",
       "                        <td id=\"T_7e37e8f6_5a9b_11ea_a40a_5c879cbbbf8drow4_col0\" class=\"data row4 col0\" >3</td>\n",
       "                        <td id=\"T_7e37e8f6_5a9b_11ea_a40a_5c879cbbbf8drow4_col1\" class=\"data row4 col1\" >$4.37</td>\n",
       "                        <td id=\"T_7e37e8f6_5a9b_11ea_a40a_5c879cbbbf8drow4_col2\" class=\"data row4 col2\" >$13.10</td>\n",
       "            </tr>\n",
       "    </tbody></table>"
      ],
      "text/plain": [
       "<pandas.io.formats.style.Styler at 0x2a3c82b9508>"
      ]
     },
     "execution_count": 68,
     "metadata": {},
     "output_type": "execute_result"
    }
   ],
   "source": [
    "#Pivot on the customer\n",
    "spenders = pd \\\n",
    "    .pivot_table(purchase_data, values=\"Price\", index=\"SN\", aggfunc=[\"count\", \"mean\", \"sum\"]) \\\n",
    "    .droplevel(1,1) \\\n",
    "    .sort_values(by=\"sum\", ascending=False) \\\n",
    "    .rename(columns={\"count\" : \"Purchase Count\", \"mean\" : \"Average Purchase Price\", \"sum\" : \"Total Purchase Value\"})\n",
    "\n",
    "# Display\n",
    "spenders.head(5).style.format({\n",
    "    \"Average Purchase Price\" : \"${:.2f}\".format,\n",
    "    \"Total Purchase Value\" : \"${:.2f}\".format,\n",
    "    \"Avg by Customer\" : \"${:.2f}\".format})"
   ]
  },
  {
   "cell_type": "markdown",
   "metadata": {},
   "source": [
    "## Most Popular Items"
   ]
  },
  {
   "cell_type": "markdown",
   "metadata": {},
   "source": [
    "* Retrieve the Item ID, Item Name, and Item Price columns\n",
    "\n",
    "\n",
    "* Group by Item ID and Item Name. Perform calculations to obtain purchase count, item price, and total purchase value\n",
    "\n",
    "\n",
    "* Create a summary data frame to hold the results\n",
    "\n",
    "\n",
    "* Sort the purchase count column in descending order\n",
    "\n",
    "\n",
    "* Optional: give the displayed data cleaner formatting\n",
    "\n",
    "\n",
    "* Display a preview of the summary data frame\n",
    "\n"
   ]
  },
  {
   "cell_type": "code",
   "execution_count": 69,
   "metadata": {},
   "outputs": [
    {
     "data": {
      "text/html": [
       "<style  type=\"text/css\" >\n",
       "</style><table id=\"T_7e3c52c0_5a9b_11ea_a267_5c879cbbbf8d\" ><thead>    <tr>        <th class=\"blank\" ></th>        <th class=\"blank level0\" ></th>        <th class=\"col_heading level0 col0\" >Purchase Count</th>        <th class=\"col_heading level0 col1\" >Item Price</th>        <th class=\"col_heading level0 col2\" >Total Purchase Value</th>    </tr>    <tr>        <th class=\"index_name level0\" >Item ID</th>        <th class=\"index_name level1\" >Item Name</th>        <th class=\"blank\" ></th>        <th class=\"blank\" ></th>        <th class=\"blank\" ></th>    </tr></thead><tbody>\n",
       "                <tr>\n",
       "                        <th id=\"T_7e3c52c0_5a9b_11ea_a267_5c879cbbbf8dlevel0_row0\" class=\"row_heading level0 row0\" >178</th>\n",
       "                        <th id=\"T_7e3c52c0_5a9b_11ea_a267_5c879cbbbf8dlevel1_row0\" class=\"row_heading level1 row0\" >Oathbreaker, Last Hope of the Breaking Storm</th>\n",
       "                        <td id=\"T_7e3c52c0_5a9b_11ea_a267_5c879cbbbf8drow0_col0\" class=\"data row0 col0\" >12</td>\n",
       "                        <td id=\"T_7e3c52c0_5a9b_11ea_a267_5c879cbbbf8drow0_col1\" class=\"data row0 col1\" >$4.23</td>\n",
       "                        <td id=\"T_7e3c52c0_5a9b_11ea_a267_5c879cbbbf8drow0_col2\" class=\"data row0 col2\" >$50.76</td>\n",
       "            </tr>\n",
       "            <tr>\n",
       "                        <th id=\"T_7e3c52c0_5a9b_11ea_a267_5c879cbbbf8dlevel0_row1\" class=\"row_heading level0 row1\" >145</th>\n",
       "                        <th id=\"T_7e3c52c0_5a9b_11ea_a267_5c879cbbbf8dlevel1_row1\" class=\"row_heading level1 row1\" >Fiery Glass Crusader</th>\n",
       "                        <td id=\"T_7e3c52c0_5a9b_11ea_a267_5c879cbbbf8drow1_col0\" class=\"data row1 col0\" >9</td>\n",
       "                        <td id=\"T_7e3c52c0_5a9b_11ea_a267_5c879cbbbf8drow1_col1\" class=\"data row1 col1\" >$4.58</td>\n",
       "                        <td id=\"T_7e3c52c0_5a9b_11ea_a267_5c879cbbbf8drow1_col2\" class=\"data row1 col2\" >$41.22</td>\n",
       "            </tr>\n",
       "            <tr>\n",
       "                        <th id=\"T_7e3c52c0_5a9b_11ea_a267_5c879cbbbf8dlevel0_row2\" class=\"row_heading level0 row2\" >108</th>\n",
       "                        <th id=\"T_7e3c52c0_5a9b_11ea_a267_5c879cbbbf8dlevel1_row2\" class=\"row_heading level1 row2\" >Extraction, Quickblade Of Trembling Hands</th>\n",
       "                        <td id=\"T_7e3c52c0_5a9b_11ea_a267_5c879cbbbf8drow2_col0\" class=\"data row2 col0\" >9</td>\n",
       "                        <td id=\"T_7e3c52c0_5a9b_11ea_a267_5c879cbbbf8drow2_col1\" class=\"data row2 col1\" >$3.53</td>\n",
       "                        <td id=\"T_7e3c52c0_5a9b_11ea_a267_5c879cbbbf8drow2_col2\" class=\"data row2 col2\" >$31.77</td>\n",
       "            </tr>\n",
       "            <tr>\n",
       "                        <th id=\"T_7e3c52c0_5a9b_11ea_a267_5c879cbbbf8dlevel0_row3\" class=\"row_heading level0 row3\" >82</th>\n",
       "                        <th id=\"T_7e3c52c0_5a9b_11ea_a267_5c879cbbbf8dlevel1_row3\" class=\"row_heading level1 row3\" >Nirvana</th>\n",
       "                        <td id=\"T_7e3c52c0_5a9b_11ea_a267_5c879cbbbf8drow3_col0\" class=\"data row3 col0\" >9</td>\n",
       "                        <td id=\"T_7e3c52c0_5a9b_11ea_a267_5c879cbbbf8drow3_col1\" class=\"data row3 col1\" >$4.90</td>\n",
       "                        <td id=\"T_7e3c52c0_5a9b_11ea_a267_5c879cbbbf8drow3_col2\" class=\"data row3 col2\" >$44.10</td>\n",
       "            </tr>\n",
       "            <tr>\n",
       "                        <th id=\"T_7e3c52c0_5a9b_11ea_a267_5c879cbbbf8dlevel0_row4\" class=\"row_heading level0 row4\" >19</th>\n",
       "                        <th id=\"T_7e3c52c0_5a9b_11ea_a267_5c879cbbbf8dlevel1_row4\" class=\"row_heading level1 row4\" >Pursuit, Cudgel of Necromancy</th>\n",
       "                        <td id=\"T_7e3c52c0_5a9b_11ea_a267_5c879cbbbf8drow4_col0\" class=\"data row4 col0\" >8</td>\n",
       "                        <td id=\"T_7e3c52c0_5a9b_11ea_a267_5c879cbbbf8drow4_col1\" class=\"data row4 col1\" >$1.02</td>\n",
       "                        <td id=\"T_7e3c52c0_5a9b_11ea_a267_5c879cbbbf8drow4_col2\" class=\"data row4 col2\" >$8.16</td>\n",
       "            </tr>\n",
       "    </tbody></table>"
      ],
      "text/plain": [
       "<pandas.io.formats.style.Styler at 0x2a3c819ac88>"
      ]
     },
     "execution_count": 69,
     "metadata": {},
     "output_type": "execute_result"
    }
   ],
   "source": [
    "# Pivot on the item\n",
    "items = pd \\\n",
    "    .pivot_table(purchase_data, values=\"Price\", index=[\"Item ID\",\"Item Name\"], aggfunc=[\"count\", \"mean\", \"sum\"]) \\\n",
    "    .droplevel(1, 1) \\\n",
    "    .sort_values(by=\"count\", ascending=False) \\\n",
    "    .rename(columns={\"count\" : \"Purchase Count\", \"mean\" : \"Item Price\", \"sum\" : \"Total Purchase Value\"})\n",
    "\n",
    "# Display\n",
    "items.head(5).style.format({\n",
    "    \"Item Price\" : \"${:.2f}\".format,\n",
    "    \"Total Purchase Value\" : \"${:.2f}\".format,\n",
    "    \"Avg by Customer\" : \"${:.2f}\".format})"
   ]
  },
  {
   "cell_type": "markdown",
   "metadata": {},
   "source": [
    "## Most Profitable Items"
   ]
  },
  {
   "cell_type": "markdown",
   "metadata": {},
   "source": [
    "* Sort the above table by total purchase value in descending order\n",
    "\n",
    "\n",
    "* Optional: give the displayed data cleaner formatting\n",
    "\n",
    "\n",
    "* Display a preview of the data frame\n",
    "\n"
   ]
  },
  {
   "cell_type": "code",
   "execution_count": 70,
   "metadata": {},
   "outputs": [
    {
     "data": {
      "text/html": [
       "<style  type=\"text/css\" >\n",
       "</style><table id=\"T_7e3db162_5a9b_11ea_be3a_5c879cbbbf8d\" ><thead>    <tr>        <th class=\"blank\" ></th>        <th class=\"blank level0\" ></th>        <th class=\"col_heading level0 col0\" >Purchase Count</th>        <th class=\"col_heading level0 col1\" >Item Price</th>        <th class=\"col_heading level0 col2\" >Total Purchase Value</th>    </tr>    <tr>        <th class=\"index_name level0\" >Item ID</th>        <th class=\"index_name level1\" >Item Name</th>        <th class=\"blank\" ></th>        <th class=\"blank\" ></th>        <th class=\"blank\" ></th>    </tr></thead><tbody>\n",
       "                <tr>\n",
       "                        <th id=\"T_7e3db162_5a9b_11ea_be3a_5c879cbbbf8dlevel0_row0\" class=\"row_heading level0 row0\" >178</th>\n",
       "                        <th id=\"T_7e3db162_5a9b_11ea_be3a_5c879cbbbf8dlevel1_row0\" class=\"row_heading level1 row0\" >Oathbreaker, Last Hope of the Breaking Storm</th>\n",
       "                        <td id=\"T_7e3db162_5a9b_11ea_be3a_5c879cbbbf8drow0_col0\" class=\"data row0 col0\" >12</td>\n",
       "                        <td id=\"T_7e3db162_5a9b_11ea_be3a_5c879cbbbf8drow0_col1\" class=\"data row0 col1\" >$4.23</td>\n",
       "                        <td id=\"T_7e3db162_5a9b_11ea_be3a_5c879cbbbf8drow0_col2\" class=\"data row0 col2\" >$50.76</td>\n",
       "            </tr>\n",
       "            <tr>\n",
       "                        <th id=\"T_7e3db162_5a9b_11ea_be3a_5c879cbbbf8dlevel0_row1\" class=\"row_heading level0 row1\" >82</th>\n",
       "                        <th id=\"T_7e3db162_5a9b_11ea_be3a_5c879cbbbf8dlevel1_row1\" class=\"row_heading level1 row1\" >Nirvana</th>\n",
       "                        <td id=\"T_7e3db162_5a9b_11ea_be3a_5c879cbbbf8drow1_col0\" class=\"data row1 col0\" >9</td>\n",
       "                        <td id=\"T_7e3db162_5a9b_11ea_be3a_5c879cbbbf8drow1_col1\" class=\"data row1 col1\" >$4.90</td>\n",
       "                        <td id=\"T_7e3db162_5a9b_11ea_be3a_5c879cbbbf8drow1_col2\" class=\"data row1 col2\" >$44.10</td>\n",
       "            </tr>\n",
       "            <tr>\n",
       "                        <th id=\"T_7e3db162_5a9b_11ea_be3a_5c879cbbbf8dlevel0_row2\" class=\"row_heading level0 row2\" >145</th>\n",
       "                        <th id=\"T_7e3db162_5a9b_11ea_be3a_5c879cbbbf8dlevel1_row2\" class=\"row_heading level1 row2\" >Fiery Glass Crusader</th>\n",
       "                        <td id=\"T_7e3db162_5a9b_11ea_be3a_5c879cbbbf8drow2_col0\" class=\"data row2 col0\" >9</td>\n",
       "                        <td id=\"T_7e3db162_5a9b_11ea_be3a_5c879cbbbf8drow2_col1\" class=\"data row2 col1\" >$4.58</td>\n",
       "                        <td id=\"T_7e3db162_5a9b_11ea_be3a_5c879cbbbf8drow2_col2\" class=\"data row2 col2\" >$41.22</td>\n",
       "            </tr>\n",
       "            <tr>\n",
       "                        <th id=\"T_7e3db162_5a9b_11ea_be3a_5c879cbbbf8dlevel0_row3\" class=\"row_heading level0 row3\" >92</th>\n",
       "                        <th id=\"T_7e3db162_5a9b_11ea_be3a_5c879cbbbf8dlevel1_row3\" class=\"row_heading level1 row3\" >Final Critic</th>\n",
       "                        <td id=\"T_7e3db162_5a9b_11ea_be3a_5c879cbbbf8drow3_col0\" class=\"data row3 col0\" >8</td>\n",
       "                        <td id=\"T_7e3db162_5a9b_11ea_be3a_5c879cbbbf8drow3_col1\" class=\"data row3 col1\" >$4.88</td>\n",
       "                        <td id=\"T_7e3db162_5a9b_11ea_be3a_5c879cbbbf8drow3_col2\" class=\"data row3 col2\" >$39.04</td>\n",
       "            </tr>\n",
       "            <tr>\n",
       "                        <th id=\"T_7e3db162_5a9b_11ea_be3a_5c879cbbbf8dlevel0_row4\" class=\"row_heading level0 row4\" >103</th>\n",
       "                        <th id=\"T_7e3db162_5a9b_11ea_be3a_5c879cbbbf8dlevel1_row4\" class=\"row_heading level1 row4\" >Singed Scalpel</th>\n",
       "                        <td id=\"T_7e3db162_5a9b_11ea_be3a_5c879cbbbf8drow4_col0\" class=\"data row4 col0\" >8</td>\n",
       "                        <td id=\"T_7e3db162_5a9b_11ea_be3a_5c879cbbbf8drow4_col1\" class=\"data row4 col1\" >$4.35</td>\n",
       "                        <td id=\"T_7e3db162_5a9b_11ea_be3a_5c879cbbbf8drow4_col2\" class=\"data row4 col2\" >$34.80</td>\n",
       "            </tr>\n",
       "    </tbody></table>"
      ],
      "text/plain": [
       "<pandas.io.formats.style.Styler at 0x2a3c8286988>"
      ]
     },
     "execution_count": 70,
     "metadata": {},
     "output_type": "execute_result"
    }
   ],
   "source": [
    "# Re-sort the items\n",
    "items.sort_values(by=\"Total Purchase Value\", ascending=False, inplace=True)\n",
    "\n",
    "#Display\n",
    "items.head(5).style.format({\n",
    "    \"Item Price\" : \"${:.2f}\".format,\n",
    "    \"Total Purchase Value\" : \"${:.2f}\".format,\n",
    "    \"Avg by Customer\" : \"${:.2f}\".format})"
   ]
  },
  {
   "cell_type": "markdown",
   "metadata": {},
   "source": [
    "## Observable Trends\n",
    "* The Heroes of Pymoli attract more than five times as many male customers than female customers\n",
    "* Two percent of the customers do not know or declare their gender\n",
    "* The most important age segment for this game is the 20-24 year-olds"
   ]
  }
 ],
 "metadata": {
  "anaconda-cloud": {},
  "kernel_info": {
   "name": "python3"
  },
  "kernelspec": {
   "display_name": "Python 3",
   "language": "python",
   "name": "python3"
  },
  "language_info": {
   "codemirror_mode": {
    "name": "ipython",
    "version": 3
   },
   "file_extension": ".py",
   "mimetype": "text/x-python",
   "name": "python",
   "nbconvert_exporter": "python",
   "pygments_lexer": "ipython3",
   "version": "3.7.6"
  },
  "latex_envs": {
   "LaTeX_envs_menu_present": true,
   "autoclose": false,
   "autocomplete": true,
   "bibliofile": "biblio.bib",
   "cite_by": "apalike",
   "current_citInitial": 1,
   "eqLabelWithNumbers": true,
   "eqNumInitial": 1,
   "hotkeys": {
    "equation": "Ctrl-E",
    "itemize": "Ctrl-I"
   },
   "labels_anchors": false,
   "latex_user_defs": false,
   "report_style_numbering": false,
   "user_envs_cfg": false
  },
  "nteract": {
   "version": "0.2.0"
  }
 },
 "nbformat": 4,
 "nbformat_minor": 2
}
